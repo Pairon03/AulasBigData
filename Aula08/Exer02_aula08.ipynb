{
 "cells": [
  {
   "cell_type": "code",
   "execution_count": 1,
   "metadata": {},
   "outputs": [],
   "source": [
    "import pandas as pd\n",
    "from sklearn.model_selection import train_test_split\n",
    "from sklearn.svm import SVC\n",
    "from sklearn.metrics import accuracy_score,classification_report, confusion_matrix\n",
    "import matplotlib.pyplot  as plt\n",
    "import seaborn as sns"
   ]
  },
  {
   "cell_type": "code",
   "execution_count": 2,
   "metadata": {},
   "outputs": [],
   "source": [
    "data = pd.DataFrame({\n",
    "    \"pH\": [3.0, 5.5, 2.5, 7.0, 4.0, 6.5, 3.5, 6.0, 2.0, 7.5, 4.5, 5.0, 2.8, 8.0],\n",
    "    \"Concentração\": [\n",
    "        'Concentrada', 'Diluida', 'Concentrada', 'Diluida',\n",
    "        'Concentrada', 'Diluida', 'Concentrada', 'Diluida',\n",
    "        'Concentrada', 'Diluida', 'Concentrada', 'Diluida',\n",
    "        'Concentrada', 'Diluida'\n",
    "    ],\n",
    "    \"Cheiro\": [\n",
    "        'Com cheiro', 'Sem cheiro', 'Com cheiro', 'Sem cheiro',\n",
    "        'Com cheiro', 'Sem cheiro', 'Com cheiro', 'Sem cheiro',\n",
    "        'Com cheiro', 'Sem cheiro', 'Com cheiro', 'Sem cheiro',\n",
    "        'Com cheiro', 'Sem cheiro'\n",
    "    ],\n",
    "    \"Classe\": [\n",
    "        'Ácida', 'Básica', 'Ácida', 'Básica',\n",
    "        'Ácida', 'Básica', 'Ácida', 'Básica',\n",
    "        'Ácida', 'Básica', 'Ácida', 'Básica',\n",
    "        'Ácida', 'Básica'\n",
    "    ]\n",
    "})"
   ]
  },
  {
   "cell_type": "code",
   "execution_count": 3,
   "metadata": {},
   "outputs": [],
   "source": [
    "X = data[['pH', 'Concentração', 'Cheiro']]\n",
    "y = data['Classe']"
   ]
  },
  {
   "cell_type": "code",
   "execution_count": null,
   "metadata": {},
   "outputs": [],
   "source": []
  }
 ],
 "metadata": {
  "kernelspec": {
   "display_name": "Python 3",
   "language": "python",
   "name": "python3"
  },
  "language_info": {
   "codemirror_mode": {
    "name": "ipython",
    "version": 3
   },
   "file_extension": ".py",
   "mimetype": "text/x-python",
   "name": "python",
   "nbconvert_exporter": "python",
   "pygments_lexer": "ipython3",
   "version": "3.11.1"
  }
 },
 "nbformat": 4,
 "nbformat_minor": 2
}

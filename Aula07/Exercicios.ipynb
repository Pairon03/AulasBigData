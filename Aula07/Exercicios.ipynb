{
 "cells": [
  {
   "cell_type": "code",
   "execution_count": 1,
   "metadata": {},
   "outputs": [],
   "source": [
    "#Exercicio 1\n",
    "\n",
    "from sklearn.model_selection import train_test_split # importa a biblioteca para dividir os dados em treino e teste \n",
    "import numpy as np # biblioteca para trabalahar com arrays\n",
    "from sklearn.tree import DecisionTreeClassifier # importa o modelo de arvore de decisão\n",
    "import pandas as pd\n",
    "from sklearn.metrics import accuracy_score, precision_score, recall_score, f1_score, confusion_matrix\n",
    "import matplotlib.pyplot as plt\n",
    "import seaborn as sns # importa biblioteca seaborn para plotar gráficos   \n",
    "from sklearn import tree  "
   ]
  },
  {
   "cell_type": "code",
   "execution_count": null,
   "metadata": {},
   "outputs": [],
   "source": [
    "data = pd.DataFrame({\n",
    "    'velocidade':[10,5,8,6,12,4],\n",
    "    'complexidade':['Baixa',],\n",
    "    'falhas':[0,2,0,1,3,2],\n",
    "    'classif':['necessita','necessita','necessita','não necessita','necessita',\n",
    "               'não necessita']\n",
    "})"
   ]
  }
 ],
 "metadata": {
  "kernelspec": {
   "display_name": "Python 3",
   "language": "python",
   "name": "python3"
  },
  "language_info": {
   "codemirror_mode": {
    "name": "ipython",
    "version": 3
   },
   "file_extension": ".py",
   "mimetype": "text/x-python",
   "name": "python",
   "nbconvert_exporter": "python",
   "pygments_lexer": "ipython3",
   "version": "3.11.1"
  }
 },
 "nbformat": 4,
 "nbformat_minor": 2
}

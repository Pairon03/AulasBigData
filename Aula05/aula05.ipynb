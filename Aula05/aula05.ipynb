{
 "cells": [
  {
   "cell_type": "code",
   "execution_count": 1,
   "metadata": {},
   "outputs": [
    {
     "ename": "ModuleNotFoundError",
     "evalue": "No module named 'sklearn'",
     "output_type": "error",
     "traceback": [
      "\u001b[1;31m---------------------------------------------------------------------------\u001b[0m",
      "\u001b[1;31mModuleNotFoundError\u001b[0m                       Traceback (most recent call last)",
      "Cell \u001b[1;32mIn[1], line 2\u001b[0m\n\u001b[0;32m      1\u001b[0m \u001b[38;5;28;01mimport\u001b[39;00m \u001b[38;5;21;01mnumpy\u001b[39;00m \u001b[38;5;28;01mas\u001b[39;00m \u001b[38;5;21;01mnp\u001b[39;00m \u001b[38;5;66;03m#importa a biblioteca numpy\u001b[39;00m\n\u001b[1;32m----> 2\u001b[0m \u001b[38;5;28;01mfrom\u001b[39;00m \u001b[38;5;21;01msklearn\u001b[39;00m\u001b[38;5;21;01m.\u001b[39;00m\u001b[38;5;21;01mlinear_model\u001b[39;00m \u001b[38;5;28;01mimport\u001b[39;00m LinearRegression \u001b[38;5;66;03m#importa da biblioteca sklearn o modelo\u001b[39;00m\n\u001b[0;32m      3\u001b[0m \u001b[38;5;66;03m# de regressão linear \u001b[39;00m\n\u001b[0;32m      4\u001b[0m \u001b[38;5;28;01mimport\u001b[39;00m \u001b[38;5;21;01mmatplotlib\u001b[39;00m\u001b[38;5;21;01m.\u001b[39;00m\u001b[38;5;21;01mpyplot\u001b[39;00m \u001b[38;5;28;01mas\u001b[39;00m \u001b[38;5;21;01mplt\u001b[39;00m \u001b[38;5;66;03m#importa a biblioteca matplotlib\u001b[39;00m\n",
      "\u001b[1;31mModuleNotFoundError\u001b[0m: No module named 'sklearn'"
     ]
    }
   ],
   "source": [
    "import numpy as np #importa a biblioteca numpy\n",
    "from sklearn.linear_model import LinearRegression #importa da biblioteca sklearn o modelo\n",
    "# de regressão linear \n",
    "import matplotlib.pyplot as plt #importa a biblioteca matplotlib"
   ]
  },
  {
   "cell_type": "code",
   "execution_count": 4,
   "metadata": {},
   "outputs": [
    {
     "ename": "SyntaxError",
     "evalue": "invalid syntax (1779829830.py, line 2)",
     "output_type": "error",
     "traceback": [
      "\u001b[1;36m  Cell \u001b[1;32mIn[4], line 2\u001b[1;36m\u001b[0m\n\u001b[1;33m    pip install scikit-learn\u001b[0m\n\u001b[1;37m        ^\u001b[0m\n\u001b[1;31mSyntaxError\u001b[0m\u001b[1;31m:\u001b[0m invalid syntax\n"
     ]
    }
   ],
   "source": [
    "#pip install scikit-learn \n",
    "pip install scikit-learn"
   ]
  },
  {
   "cell_type": "code",
   "execution_count": null,
   "metadata": {},
   "outputs": [],
   "source": [
    "vazao = np.array([10,20,30,5,35,40]).reshape(-1,1) # cria o conjunto de dados\n",
    "nivel = np.array([50,60,70,45,80,85]) # conjunto de dados para o nivel\n",
    "# Cria modelo e treina o modelo de regressão linear \n",
    "modelo = LinearRegression() # armazena a regressão linear na variável modelo\n",
    "modelo.fit(vazao,nivel) # treinando o modelo de regressão linear\n"
   ]
  },
  {
   "cell_type": "code",
   "execution_count": null,
   "metadata": {},
   "outputs": [],
   "source": [
    "# teste do modelo criado\n",
    "vazao_teste = np.array([50,10,30,20,5]).reshape(-1,1)\n",
    "#vazao_teste = np.array([5,2,7,30,50]).reshape(-1,1) \n",
    "# Fazer previsão com base na vazão da água\n",
    "nivel_previsto = modelo.predict(vazao_teste)"
   ]
  },
  {
   "cell_type": "code",
   "execution_count": null,
   "metadata": {},
   "outputs": [],
   "source": [
    "for i in range(len(vazao_teste)):\n",
    "    print(f\"Vazão: {vazao_teste[i][0]} m3/min - Nível previsto: {nivel_previsto[i]}\")\n",
    "plt.scatter(vazao,nivel,color=\"blue\", label=\"Dados de Treinamento\")\n",
    "plt.plot(vazao_teste,nivel_previsto, color = \"red\", label=\"Dados do Teste\")\n",
    "plt.xlabel(\"Vazão de Água (m3/min)\")\n",
    "plt.ylabel(\"Nivel do Tanque (metros)\")\n",
    "plt.title(\"Relação entre Vazão de Água e Nivel do Tanque\")\n",
    "plt.legend()\n",
    "plt.grid(True)\n",
    "plt.show"
   ]
  },
  {
   "cell_type": "code",
   "execution_count": null,
   "metadata": {},
   "outputs": [],
   "source": [
    "# Exercício 1\n",
    "# teste do modelo criado\n",
    "ex1vazao_teste = np.array([10,20,30,5,35,40]).reshape(-1,1)\n",
    "# Fazer previsão com base na vazão da água\n",
    "ex1nivel_previsto = modelo.predict(ex1vazao_teste)\n"
   ]
  },
  {
   "cell_type": "code",
   "execution_count": null,
   "metadata": {},
   "outputs": [],
   "source": [
    "for i in range(len(ex1vazao_teste)):\n",
    "    print(f\"Vazão: {ex1vazao_teste[i][0]} m3/min - Nível previsto: {ex1nivel_previsto[i]}\")\n",
    "plt.scatter(vazao,nivel,color=\"blue\", label=\"Dados de Treinamento\")\n",
    "plt.plot(ex1vazao_teste,ex1nivel_previsto, color = \"red\", label=\"Dados do Teste\")\n",
    "plt.xlabel(\"Vazão de Água (m3/min)\")\n",
    "plt.ylabel(\"Nivel do Tanque (metros)\")\n",
    "plt.title(\"Relação entre Vazão de Água e Nivel do Tanque\")\n",
    "plt.legend()\n",
    "plt.grid(True)\n",
    "plt.show"
   ]
  },
  {
   "cell_type": "code",
   "execution_count": null,
   "metadata": {},
   "outputs": [],
   "source": [
    "# Exercício 2\n",
    "Q = np.array([100,200,300,400,500,600,700]).reshape(-1,1) # cria o conjunto de dados\n",
    "T = np.array([30,35,40,45,60,100,150]) # conjunto de dados para a temperatura\n",
    "# Cria modelo e treina o modelo de regressão linear \n",
    "modelo1 = LinearRegression() # armazena a regressão linear na variável modelo\n",
    "modelo1.fit(Q,T) # treinando o modelo de regressão linear"
   ]
  },
  {
   "cell_type": "code",
   "execution_count": null,
   "metadata": {},
   "outputs": [],
   "source": [
    "# Exercício 2\n",
    "# teste do modelo criado\n",
    "calor_temperatura = np.array([0,50,100,150,200,350,700]).reshape(-1,1)\n",
    "ex1temp_previsto = modelo1.predict(calor_temperatura)"
   ]
  },
  {
   "cell_type": "code",
   "execution_count": null,
   "metadata": {},
   "outputs": [],
   "source": [
    "for i in range(len(calor_temperatura)):\n",
    "    print(f\"Calor: {calor_temperatura[i][0]} Temperatura prevista: {ex1temp_previsto[i]}\")\n",
    "plt.scatter(Q,T,color=\"blue\", label=\"Dados de Treinamento\")\n",
    "plt.plot(calor_temperatura,ex1temp_previsto, color = \"red\", label=\"Dados do Teste\")\n",
    "plt.xlabel(\"Calor (Q)\")\n",
    "plt.ylabel(\"Temperatura(T)\")\n",
    "plt.title(\"Relação entre Calor e Temperatura\")\n",
    "plt.legend()\n",
    "plt.grid(True)\n",
    "plt.show"
   ]
  },
  {
   "cell_type": "code",
   "execution_count": null,
   "metadata": {},
   "outputs": [],
   "source": [
    "# Exercício 3\n",
    "A = np.array([50,100,120,300]).reshape(-1,1) # cria o conjunto de dados para a area\n",
    "valor = np.array([180.000,300.000,375.000,600.000]) # conjunto de dados para o valor\n",
    "# Cria modelo e treina o modelo de regressão linear \n",
    "modelo2 = LinearRegression() # armazena a regressão linear na variável modelo\n",
    "modelo2.fit(A,valor) # treinando o modelo de regressão linear"
   ]
  },
  {
   "cell_type": "code",
   "execution_count": null,
   "metadata": {},
   "outputs": [],
   "source": [
    "# Exercício 3\n",
    "# teste do modelo criado\n",
    "A_valor = np.array([50,150,100,300,560,600]).reshape(-1,1)\n",
    "ex1valor_previsto = modelo2.predict(A_valor)"
   ]
  },
  {
   "cell_type": "code",
   "execution_count": null,
   "metadata": {},
   "outputs": [],
   "source": [
    "for i in range(len(A_valor)):\n",
    "    print(f\"Área: {A_valor[i][0]} Valor: {ex1valor_previsto[i]}\")\n",
    "plt.scatter(A,valor,color=\"blue\", label=\"Dados de Treinamento\")\n",
    "plt.plot(A_valor,ex1valor_previsto, color = \"red\", label=\"Dados do Teste\")\n",
    "plt.xlabel(\"Área(A)\")\n",
    "plt.ylabel(\"Valor(V)\")\n",
    "plt.title(\"Relação entre Área e Valor\")\n",
    "plt.legend()\n",
    "plt.grid(True)\n",
    "plt.show"
   ]
  },
  {
   "cell_type": "code",
   "execution_count": null,
   "metadata": {},
   "outputs": [],
   "source": [
    "# Exercício 4\n",
    "renda = np.array([1200,5000,8000,10000,30000]).reshape(-1,1) # cria o conjunto de dados para a renda\n",
    "gastos = np.array([750,1500,4000,6000,18000]) # conjunto de dados para o gastos\n",
    "# Cria modelo e treina o modelo de regressão linear \n",
    "modelo3 = LinearRegression() # armazena a regressão linear na variável modelo\n",
    "modelo3.fit(renda,gastos) # treinando o modelo de regressão linear"
   ]
  },
  {
   "cell_type": "code",
   "execution_count": null,
   "metadata": {},
   "outputs": [],
   "source": [
    "# Exercício 4\n",
    "# teste do modelo criado\n",
    "renda_gastos = np.array([2000,1000,1200,3700,600,800]).reshape(-1,1)\n",
    "ex1gastos_previsto = modelo2.predict(renda_gastos)"
   ]
  },
  {
   "cell_type": "code",
   "execution_count": null,
   "metadata": {},
   "outputs": [],
   "source": [
    "for i in range(len(renda_gastos)):\n",
    "    print(f\"Renda: {renda_gastos[i][0]} Gastos: {ex1gastos_previsto[i]}\")\n",
    "plt.scatter(renda,gastos,color=\"blue\", label=\"Dados de Treinamento\")\n",
    "plt.plot(renda_gastos,ex1gastos_previsto, color = \"red\", label=\"Dados do Teste\")\n",
    "plt.xlabel(\"Renda(R)\")\n",
    "plt.ylabel(\"Gastos(G)\")\n",
    "plt.title(\"Relação entre Renda e Gastos\")\n",
    "plt.legend()\n",
    "plt.grid(True)\n",
    "plt.show"
   ]
  },
  {
   "cell_type": "code",
   "execution_count": null,
   "metadata": {},
   "outputs": [],
   "source": [
    "# Exercício 5\n",
    "consumo = np.array([50,140,30,75,123]).reshape(-1,1) # cria o conjunto de dados para o consumo\n",
    "demanda = np.array([100,200,80,100,160]) # conjunto de dados para o demanda\n",
    "# Cria modelo e treina o modelo de regressão linear \n",
    "modelo4 = LinearRegression() # armazena a regressão linear na variável modelo\n",
    "modelo4.fit(renda,gastos) # treinando o modelo de regressão linear"
   ]
  },
  {
   "cell_type": "code",
   "execution_count": null,
   "metadata": {},
   "outputs": [],
   "source": [
    "# Exercício 5\n",
    "# teste do modelo criado\n",
    "consumo_demanda = np.array([150,300,500,450,100,600]).reshape(-1,1)\n",
    "ex1demanda_prevista = modelo3.predict(consumo_demanda)"
   ]
  },
  {
   "cell_type": "code",
   "execution_count": null,
   "metadata": {},
   "outputs": [],
   "source": [
    "for i in range(len(consumo_demanda)):\n",
    "    print(f\"Consumo: {consumo_demanda[i][0]} Demanda: {ex1demanda_prevista[i]}\")\n",
    "plt.scatter(consumo,demanda,color=\"blue\", label=\"Dados de Treinamento\")\n",
    "plt.plot(consumo_demanda,ex1demanda_prevista, color = \"red\", label=\"Dados do Teste\")\n",
    "plt.xlabel(\"Consumo(KW)\")\n",
    "plt.ylabel(\"Demanda(D)\")\n",
    "plt.title(\"Relação entre Consumo e Demanda\")\n",
    "plt.legend()\n",
    "plt.grid(True)\n",
    "plt.show"
   ]
  }
 ],
 "metadata": {
  "kernelspec": {
   "display_name": "Python 3",
   "language": "python",
   "name": "python3"
  },
  "language_info": {
   "codemirror_mode": {
    "name": "ipython",
    "version": 3
   },
   "file_extension": ".py",
   "mimetype": "text/x-python",
   "name": "python",
   "nbconvert_exporter": "python",
   "pygments_lexer": "ipython3",
   "version": "3.11.1"
  }
 },
 "nbformat": 4,
 "nbformat_minor": 2
}
